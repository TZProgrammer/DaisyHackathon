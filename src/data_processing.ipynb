{
 "cells": [
  {
   "cell_type": "code",
   "execution_count": 13,
   "metadata": {},
   "outputs": [],
   "source": [
    "# Importing data\n",
    "from torch.utils.data import Dataset, DataLoader, TensorDataset\n",
    "import torch\n",
    "import csv\n",
    "\n",
    "def data_loader(size):\n",
    "    data_label = []\n",
    "    data_text = []\n",
    "    for k in range(1,size+1):\n",
    "        i = 0\n",
    "        with open('D:/Daisy Hackathon/DaisyHackathon/amazon_total/amazon_total-{}.csv'.format(k)) as csv_file:\n",
    "            csv_reader = csv.reader(csv_file, delimiter='\\n')\n",
    "            for row in csv_reader:\n",
    "                if row[0][0:6] == 'rating':\n",
    "                    #print(int(float(row[0][8:11])))\n",
    "                    stars = int(float(row[0][8:11]))\n",
    "                    if stars == 3:\n",
    "                        rating = 1\n",
    "                    elif stars > 3:\n",
    "                        rating = 2\n",
    "                    else: \n",
    "                        rating = 0\n",
    "                if row[0][0:7] == 'review:':\n",
    "                    review = ''.join(row[:][:])[8:]\n",
    "                    data_label.append(rating)\n",
    "                    data_text.append(review)\n",
    "                i += 1\n",
    "    return data_label, data_text\n",
    "\n",
    "# Splitting into training and testing subsets \n",
    "def split(data):\n",
    "    ind = int(len(data)*0.8)\n",
    "    train = data[:ind]\n",
    "    test = data[ind:]\n",
    "    return train, test\n",
    "\n",
    "def write_csv(train_label, test_label, train_text, test_text):\n",
    "\n",
    "    with open(\"train.csv\", \"w\") as f:\n",
    "        writer = csv.writer(f)\n",
    "        writer.writerow(['text', 'label'])\n",
    "        writer.writerows(zip(train_text, train_label))\n",
    "\n",
    "    with open(\"test.csv\", \"w\") as f:\n",
    "        writer = csv.writer(f)\n",
    "        writer.writerow(['text', 'label'])\n",
    "        writer.writerows(zip(test_text, test_label))\n",
    "\n",
    "\n",
    "def weight_sampling(data, nclasses):\n",
    "    weight = [0] * nclasses\n",
    "    for i in range(nclasses + 1):\n",
    "        weight[i] = data.count(i)/len(data)\n",
    "     \n",
    "\n"
   ]
  },
  {
   "cell_type": "code",
   "execution_count": 14,
   "metadata": {},
   "outputs": [],
   "source": [
    "label, text = data_loader(8156)\n",
    "#data = TensorDataset(text, label)\n",
    "train_label, test_label = split(label)\n",
    "train_text, test_text = split(text)\n",
    "write_csv(train_label, test_label, train_text, test_text)\n",
    "\n"
   ]
  },
  {
   "cell_type": "code",
   "execution_count": null,
   "metadata": {},
   "outputs": [],
   "source": [
    "weights = weight_sampling(label, 3)                                                                \n",
    "weights = torch.DoubleTensor(weights)      \n",
    "print(weights)                                 \n",
    "sampler = torch.utils.data.sampler.WeightedRandomSampler(weights, len(weights))   \n",
    "train_loader = torch.utils.data.DataLoader(dataset_train, shuffle = True, sampler = sampler,)"
   ]
  },
  {
   "cell_type": "code",
   "execution_count": 82,
   "metadata": {},
   "outputs": [
    {
     "name": "stdout",
     "output_type": "stream",
     "text": [
      "Number of positive reviews: 4146380 \n",
      "Number of negative reviews: 653996 \n",
      "Number of neutral reviews: 379310\n"
     ]
    }
   ],
   "source": [
    "print(\"Number of positive reviews:\", label.count(2), \"\\nNumber of negative reviews:\", label.count(0), \"\\nNumber of neutral reviews:\", label.count(1))"
   ]
  }
 ],
 "metadata": {
  "kernelspec": {
   "display_name": "Python 3",
   "language": "python",
   "name": "python3"
  },
  "language_info": {
   "codemirror_mode": {
    "name": "ipython",
    "version": 3
   },
   "file_extension": ".py",
   "mimetype": "text/x-python",
   "name": "python",
   "nbconvert_exporter": "python",
   "pygments_lexer": "ipython3",
   "version": "3.10.1 (tags/v3.10.1:2cd268a, Dec  6 2021, 19:10:37) [MSC v.1929 64 bit (AMD64)]"
  },
  "orig_nbformat": 4,
  "vscode": {
   "interpreter": {
    "hash": "f3dcf14db218525939044c351092779acf23c8c43ef6a42d409d25e969a7a93e"
   }
  }
 },
 "nbformat": 4,
 "nbformat_minor": 2
}
