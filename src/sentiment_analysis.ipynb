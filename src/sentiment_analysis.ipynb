{
 "cells": [
  {
   "cell_type": "code",
   "execution_count": 1,
   "metadata": {},
   "outputs": [
    {
     "name": "stderr",
     "output_type": "stream",
     "text": [
      "w:\\Users\\thoma\\anaconda3\\envs\\Pytorch3\\lib\\site-packages\\tqdm\\auto.py:22: TqdmWarning: IProgress not found. Please update jupyter and ipywidgets. See https://ipywidgets.readthedocs.io/en/stable/user_install.html\n",
      "  from .autonotebook import tqdm as notebook_tqdm\n"
     ]
    }
   ],
   "source": [
    "import torch.nn as nn\n",
    "import torch\n",
    "import torch.nn.functional as F\n",
    "import torch.optim as optim\n",
    "import numpy as np\n",
    "import torchtext\n",
    "import io\n",
    "from happytransformer import HappyTextClassification \n"
   ]
  },
  {
   "cell_type": "code",
   "execution_count": 10,
   "metadata": {},
   "outputs": [
    {
     "name": "stderr",
     "output_type": "stream",
     "text": [
      "Downloading: 100%|██████████| 48.0/48.0 [00:00<00:00, 24.0kB/s]\n",
      "Downloading: 100%|██████████| 232k/232k [00:00<00:00, 2.21MB/s]\n",
      "01/14/2023 20:04:35 - INFO - happytransformer.happy_transformer -   Using model: cuda\n"
     ]
    }
   ],
   "source": [
    "happy_tc = HappyTextClassification(\"DISTILBERT\", \"distilbert-base-uncased-finetuned-sst-2-english\")"
   ]
  },
  {
   "cell_type": "code",
   "execution_count": 11,
   "metadata": {},
   "outputs": [
    {
     "name": "stdout",
     "output_type": "stream",
     "text": [
      "TextClassificationResult(label='POSITIVE', score=0.9998737573623657)\n",
      "TextClassificationResult(label='NEGATIVE', score=0.9828665852546692)\n",
      "TextClassificationResult(label='NEGATIVE', score=0.9781290888786316)\n",
      "TextClassificationResult(label='POSITIVE', score=0.9998642206192017)\n",
      "TextClassificationResult(label='NEGATIVE', score=0.9990074038505554)\n"
     ]
    }
   ],
   "source": [
    "print(happy_tc.classify_text(\"I am so happy about this!\"))\n",
    "print(happy_tc.classify_text(\"This is the most dissapointing news I have had in a while.\"))\n",
    "print(happy_tc.classify_text(\"This house was built three years ago.\"))\n",
    "print(happy_tc.classify_text(\"I am amazed by how amazing these nuts are!\"))\n",
    "print(happy_tc.classify_text(\"They have no milk, this sucks.\"))"
   ]
  },
  {
   "cell_type": "code",
   "execution_count": 14,
   "metadata": {},
   "outputs": [],
   "source": [
    "#model = fasttext.train_unsupervised('data/enwik9')\n",
    "def load_vectors(fname):\n",
    "    fin = io.open(fname, 'r', encoding='utf-8', newline='\\n', errors='ignore')\n",
    "    n, d = map(int, fin.readline().split())\n",
    "    data = {}\n",
    "    for line in fin:\n",
    "        tokens = line.rstrip().split(' ')\n",
    "        data[tokens[0]] = map(float, tokens[1:])\n",
    "    return data\n",
    "\n"
   ]
  },
  {
   "cell_type": "code",
   "execution_count": 9,
   "metadata": {},
   "outputs": [],
   "source": [
    "class sentiment_LSTM(nn.Module):\n",
    "    def __init__(self, input_size, hidden_size, num_class):\n",
    "        super(TweetRNN, self).__init__()\n",
    "        self.emb = nn.Embedding.from_pretrained(glove.vectors) # Replace with embeddings\n",
    "        self.hidden_size = hidden_size\n",
    "        self.rnn = nn.LSTM(input_size, hidden_size, batch_first=True)\n",
    "        self.fc = nn.Linear(hidden_size, num_class)\n",
    "\n",
    "    def forward(self, x): \n",
    "        # Look-up the embeddings \n",
    "        x = self.emb(x) \n",
    "        # Set the initial hidden states \n",
    "        h0 = torch.zeros(1, x.size(0), self.hidden_size) \n",
    "        c0 = torch.zeros(1, x.size(0), self.hidden_size) \n",
    "        # Forward propagate the RNN \n",
    "        out, __ = self.rnn(x, (h0, c0)) \n",
    "        # Pass the output of the last step to the classifier return \n",
    "        self.fc(out[:,-1,:])\n",
    "\n"
   ]
  },
  {
   "cell_type": "code",
   "execution_count": null,
   "metadata": {},
   "outputs": [],
   "source": []
  }
 ],
 "metadata": {
  "kernelspec": {
   "display_name": "Pytorch3",
   "language": "python",
   "name": "python3"
  },
  "language_info": {
   "codemirror_mode": {
    "name": "ipython",
    "version": 3
   },
   "file_extension": ".py",
   "mimetype": "text/x-python",
   "name": "python",
   "nbconvert_exporter": "python",
   "pygments_lexer": "ipython3",
   "version": "3.8.13"
  },
  "orig_nbformat": 4,
  "vscode": {
   "interpreter": {
    "hash": "31bbfcd7257872360677f87afbe96b8c312d331e3f110a38293d81172bb44f42"
   }
  }
 },
 "nbformat": 4,
 "nbformat_minor": 2
}
